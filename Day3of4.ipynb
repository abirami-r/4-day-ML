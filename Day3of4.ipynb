{
 "cells": [
  {
   "cell_type": "markdown",
   "metadata": {
    "colab": {},
    "colab_type": "code",
    "id": "RiWOqVGJpnR5",
    "outputId": "fdde8e36-e354-4943-d027-e8a691e184ec"
   },
   "source": [
    "# Introduction to Machine Learning\n",
    "\n"
   ]
  },
  {
   "cell_type": "markdown",
   "metadata": {
    "colab_type": "text",
    "id": "pobAbXhxpnRm"
   },
   "source": [
    "## Introduction:  \n",
    "\n",
    "All machine learning algorithms use some input data to create outputs. This input data comprise features, which are usually in the form of structured columns. Algorithms require features with some specific characteristic to work properly. Hence a need for feature engineering arises. Feature engineering efforts mainly have two goals:\n",
    "- Preparing the proper input dataset, compatible with the machine learning algorithm requirements.\n",
    "- Improving the performance of machine learning models.\n",
    "\n",
    "In this webinar we will summarizes the main techniques of feature engineering that are most commonly used. Some techniques might work better with some algorithms or datasets, while some of them might be beneficial in all cases. The best way to achieve expertise in feature engineering is practicing different techniques on various datasets and observing their effect on model performances.\n",
    "\n",
    "**List of Techniques**\n",
    "1. Imputation\n",
    "2. Handling Outliers\n",
    "3. Binning\n",
    "4. Log Transform\n",
    "5. One-Hot Encoding\n",
    "6. Grouping Operations\n",
    "7. Feature Split\n",
    "8. Scaling\n",
    "\n",
    "All we use is NumPy and Pandas to do perform Feature Engineering to sort out the useful data from the mess. \n",
    "\n",
    "<img src=\"https://img-a.udemycdn.com/course/750x422/1304050_ee0f_8.jpg\" alt=\"Numpy Logo\" width=\"500\">"
   ]
  },
  {
   "cell_type": "markdown",
   "metadata": {},
   "source": [
    "```python\n",
    "import pandas as pd\n",
    "import numpy as np\n",
    "```"
   ]
  },
  {
   "cell_type": "markdown",
   "metadata": {},
   "source": [
    "### *1. Imputation*\n",
    "\n",
    "Missing values are one of the most common problems you can encounter when you try to prepare your data for machine learning. The reason for the missing values might be human errors, interruptions in the data flow, privacy concerns, and so on. Whatever is the reason, missing values affect the performance of the machine learning models.\n",
    "\n",
    "The most simple solution to the missing values is to drop the rows or the entire column. There is not an optimum threshold for dropping but you can use 70% as an example value and try to drop the rows and columns which have missing values with higher than this threshold."
   ]
  },
  {
   "cell_type": "markdown",
   "metadata": {},
   "source": [
    "```python\n",
    "threshold = 0.7\n",
    "\n",
    "#Dropping columns with missing value rate higher than threshold\n",
    "data = data[data.columns[data.isnull().mean() < threshold]]\n",
    "\n",
    "#Dropping rows with missing value rate higher than threshold\n",
    "data = data.loc[data.isnull().mean(axis=1) < threshold]\n",
    "```"
   ]
  },
  {
   "cell_type": "markdown",
   "metadata": {},
   "source": [
    "### Numerical Imputation\n",
    "\n",
    "Imputation is a more preferable option rather than dropping because it preserves the data size. However, there is an important selection of what you impute to the missing values.\n",
    "The best imputation way is to use the medians of the columns. As the averages of the columns are sensitive to the outlier values, while medians are more solid in this respect."
   ]
  },
  {
   "cell_type": "markdown",
   "metadata": {},
   "source": [
    "```python\n",
    "#Filling all missing values with 0\n",
    "data = data.fillna(0)\n",
    "\n",
    "#Filling missing values with medians of the columns\n",
    "data = data.fillna(data.median())\n",
    "```"
   ]
  },
  {
   "cell_type": "markdown",
   "metadata": {},
   "source": [
    "### Categorical Imputation\n",
    "\n",
    "Replacing the missing values with the maximum occurred value in a column is a good option for handling categorical columns. But if you think the values in the column are distributed uniformly and there is not a dominant value, imputing a category like “Other” might be more sensible, because in such a case, your imputation is likely to converge a random selection."
   ]
  },
  {
   "cell_type": "markdown",
   "metadata": {},
   "source": [
    "```python\n",
    "#Max fill function for categorical columns\n",
    "data['column_name'].fillna(data['column_name'].value_counts().idxmax(), inplace=True)\n",
    "```"
   ]
  },
  {
   "cell_type": "markdown",
   "metadata": {},
   "source": [
    "### *2. Handling Outliers*"
   ]
  },
  {
   "cell_type": "markdown",
   "metadata": {},
   "source": [
    "### Outlier Detection with Standard Deviation\n",
    "\n",
    "If a value has a distance to the average higher than x * standard deviation, it can be assumed as an outlier. Then what x should be?\n",
    "There is no trivial solution for x, but usually, a value between 2 and 4 seems practical. In addition, z-score can be used instead of the formula above. Z-score (or standard score) standardizes the distance between a value and the mean using the standard deviation."
   ]
  },
  {
   "cell_type": "markdown",
   "metadata": {},
   "source": [
    "```python\n",
    "#Dropping the outlier rows with standard deviation\n",
    "factor = 3\n",
    "upper_lim = data['column'].mean () + data['column'].std () * factor\n",
    "lower_lim = data['column'].mean () - data['column'].std () * factor\n",
    "\n",
    "data = data[(data['column'] < upper_lim) & (data['column'] > lower_lim)]\n",
    "```"
   ]
  },
  {
   "cell_type": "markdown",
   "metadata": {},
   "source": [
    "### Outlier Detection with Percentiles\n",
    "\n",
    "Another mathematical method to detect outliers is to use percentiles. You can assume a certain percent of the value from the top or the bottom as an outlier. The key point is here to set the percentage value once again, and this depends on the distribution of the data."
   ]
  },
  {
   "cell_type": "markdown",
   "metadata": {},
   "source": [
    "```python\n",
    "#Dropping the outlier rows with Percentiles\n",
    "upper_lim = data['column'].quantile(.95)\n",
    "lower_lim = data['column'].quantile(.05)\n",
    "\n",
    "data = data[(data['column'] < upper_lim) & (data['column'] > lower_lim)]\n",
    "```"
   ]
  },
  {
   "cell_type": "markdown",
   "metadata": {},
   "source": [
    "### An Outlier Dilemma: Drop or Cap\n",
    "\n",
    "Another option for handling outliers is to cap them instead of dropping. So you can keep your data size and at the end of the day, it might be better for the final model performance.\n",
    "On the other hand, capping can affect the distribution of the data, thus it better not to exaggerate it."
   ]
  },
  {
   "cell_type": "markdown",
   "metadata": {},
   "source": [
    "```python\n",
    "#Capping the outlier rows with Percentiles\n",
    "upper_lim = data['column'].quantile(.95)\n",
    "lower_lim = data['column'].quantile(.05)\n",
    "data.loc[(df[column] > upper_lim),column] = upper_lim\n",
    "data.loc[(df[column] < lower_lim),column] = lower_lim\n",
    "```"
   ]
  },
  {
   "cell_type": "markdown",
   "metadata": {},
   "source": [
    "### *3. Data Binning*\n",
    "\n",
    "<div style=\"text-align:center\"><img src=\"https://miro.medium.com/max/702/0*XWta_U67Nv9udfY-.png\"></div>\n",
    "\n",
    "Data binning (also called Discrete binning or bucketing) is a data pre-processing technique used to reduce the effects of minor observation errors. The original data values which fall into a given small interval, a bin, are replaced by a value representative of that interval, often the central value. It is a form of quantization. The main motivation of data binning is to make the model more robust and prevent overfitting, however, it has a cost to the performance. The trade-off between performance and overfitting is the key point of the binning process."
   ]
  },
  {
   "cell_type": "markdown",
   "metadata": {},
   "source": [
    "```python\n",
    "#Numerical Binning Example\n",
    "\n",
    "data['bin'] = pd.cut(data['value'], bins=[0,30,70,100], labels=[\"Low\", \"Mid\", \"High\"])\n",
    "```"
   ]
  },
  {
   "cell_type": "markdown",
   "metadata": {},
   "source": [
    "OUTPUT\n",
    "```\n",
    "    value   bin\n",
    "0      2   Low\n",
    "1     45   Mid\n",
    "2      7   Low\n",
    "3     85  High\n",
    "4     28   Low\n",
    "```"
   ]
  },
  {
   "cell_type": "markdown",
   "metadata": {},
   "source": [
    "INPUT:\n",
    "```\n",
    "#Categorical Binning Example\n",
    "     Country\n",
    "0      Spain\n",
    "1      Chile\n",
    "2  Australia\n",
    "3      Italy\n",
    "4     Brazil\n",
    "```"
   ]
  },
  {
   "cell_type": "markdown",
   "metadata": {},
   "source": [
    "```python\n",
    "conditions = [\n",
    "    data['Country'].str.contains('Spain'),\n",
    "    data['Country'].str.contains('Italy'),\n",
    "    data['Country'].str.contains('Chile'),\n",
    "    data['Country'].str.contains('Brazil')]\n",
    "\n",
    "choices = ['Europe', 'Europe', 'South America', 'South America']\n",
    "\n",
    "data['Continent'] = np.select(conditions, choices, default='Other')\n",
    "```"
   ]
  },
  {
   "cell_type": "markdown",
   "metadata": {},
   "source": [
    "OUTPUT:\n",
    "```\n",
    "     Country      Continent\n",
    "0      Spain         Europe\n",
    "1      Chile  South America\n",
    "2  Australia          Other\n",
    "3      Italy         Europe\n",
    "4     Brazil  South America\n",
    "```"
   ]
  },
  {
   "cell_type": "markdown",
   "metadata": {},
   "source": [
    "### *4. Log Transform*\n",
    "\n",
    "Logarithm transformation (or log transform) is one of the most commonly used mathematical transformations in feature engineering. Benefits log transform:\n",
    "- It helps to handle skewed data and after transformation, the distribution becomes more approximate to normal.\n",
    "- In most of the cases the magnitude order of the data changes within the range of the data. For instance, the difference between ages 15 and 20 is not equal to the ages 65 and 70. In terms of years, yes, they are identical, but for all other aspects, 5 years of difference in young ages mean a higher magnitude difference. This type of data comes from a multiplicative process and log transform normalizes the magnitude differences like that.\n",
    "- It also decreases the effect of the outliers, due to the normalization of magnitude differences and the model become more robust."
   ]
  },
  {
   "cell_type": "markdown",
   "metadata": {},
   "source": [
    "```python\n",
    "#Log Transform Example\n",
    "data = pd.DataFrame({'value':[2,45, -23, 85, 28, 2, 35, -12]})\n",
    "data['log+1'] = (data['value']+1).transform(np.log)\n",
    "\n",
    "#Negative Values Handling\n",
    "#Note that the values are different\n",
    "data['log'] = (data['value']-data['value'].min()+1) .transform(np.log)\n",
    "```"
   ]
  },
  {
   "cell_type": "markdown",
   "metadata": {},
   "source": [
    "### *5. One-hot encoding*\n",
    "\n",
    "One-hot encoding is one of the most common encoding methods in machine learning. This method spreads the values in a column to multiple flag columns and assigns 0 or 1 to them. These binary values express the relationship between grouped and encoded column.\n",
    "\n",
    "<div style=\"text-align:center\"><img src=\"https://miro.medium.com/max/702/1*ZX99GOZ6-9_yJg6rZchTEA.png\"></div>"
   ]
  },
  {
   "cell_type": "markdown",
   "metadata": {},
   "source": [
    "```python\n",
    "encoded_columns = pd.get_dummies(data['column'])\n",
    "data = data.join(encoded_columns).drop('column', axis=1)\n",
    "```"
   ]
  },
  {
   "cell_type": "markdown",
   "metadata": {},
   "source": [
    "### *6. Grouping Operations*\n",
    "\n",
    "In most machine learning algorithms, every instance is represented by a row in the training dataset, where every column show a different feature of the instance. This kind of data called “Tidy”. Tidy datasets are easy to manipulate, model and visualise, and have a specific structure: each variable is a column, each observation is a row, and each type of observational unit is a table."
   ]
  },
  {
   "cell_type": "markdown",
   "metadata": {},
   "source": [
    "### Categorical Column Grouping\n",
    "\n",
    "There are three different ways for aggregating categorical columns:\n",
    "\n",
    "- The first option is to select the label with the highest frequency. In other words, this is the max operation for categorical columns."
   ]
  },
  {
   "cell_type": "markdown",
   "metadata": {},
   "source": [
    "```python\n",
    "data.groupby('id').agg(lambda x: x.value_counts().index[0])\n",
    "```"
   ]
  },
  {
   "cell_type": "markdown",
   "metadata": {},
   "source": [
    "- Second option is to make a pivot table. This approach resembles the encoding method in the preceding step with a difference.\n",
    "\n",
    "<div style=\"text-align:center\"><img src=\"https://miro.medium.com/max/702/1*VWBbZRkTrHJQrQfWlPQWUg.png\"></div>\n",
    "\n",
    "```python\n",
    "#Pivot table Pandas Example\n",
    "data.pivot_table(index='column_to_group', columns='column_to_encode', values='aggregation_column', aggfunc=np.sum, fill_value = 0)\n",
    "```"
   ]
  },
  {
   "cell_type": "markdown",
   "metadata": {},
   "source": [
    "- Last categorical grouping option is to apply a group by function after applying one-hot encoding. This method preserves all the data -in the first option you lose some-, and in addition, you transform the encoded column from categorical to numerical in the meantime."
   ]
  },
  {
   "cell_type": "markdown",
   "metadata": {},
   "source": [
    "### Numerical Column Grouping\n",
    "\n",
    "Numerical columns are grouped using sum and mean functions in most of the cases. Both can be preferable according to the meaning of the feature.\n",
    "\n",
    "```python\n",
    "#sum_cols: List of columns to sum\n",
    "#mean_cols: List of columns to average\n",
    "grouped = data.groupby('column_to_group')\n",
    "\n",
    "sums = grouped[sum_cols].sum().add_suffix('_sum')\n",
    "avgs = grouped[mean_cols].mean().add_suffix('_avg')\n",
    "\n",
    "new_df = pd.concat([sums, avgs], axis=1)\n",
    "```"
   ]
  },
  {
   "cell_type": "markdown",
   "metadata": {},
   "source": [
    "### *7. Feature Split*\n",
    "\n",
    "Splitting features is a good way to make them useful in terms of machine learning. Most of the time the dataset contains string columns that violates tidy data principles. By extracting the utilizable parts of a column into new features:\n",
    "- We enable machine learning algorithms to comprehend them.\n",
    "- Make possible to bin and group them.\n",
    "- Improve model performance by uncovering potential information"
   ]
  },
  {
   "cell_type": "markdown",
   "metadata": {},
   "source": [
    "### *8. Scaling*\n",
    "\n",
    "There are two common ways of scaling:"
   ]
  },
  {
   "cell_type": "markdown",
   "metadata": {},
   "source": [
    "### Normalization\n",
    "\n",
    "Normalization (or min-max normalization) scale all values in a fixed range between 0 and 1. This transformation does not change the distribution of the feature and due to the decreased standard deviations, the effects of the outliers increases. Therefore, before normalization, it is recommended to handle the outliers.\n",
    "\n",
    "```python\n",
    "data = pd.DataFrame({'value':[2,45, -23, 85, 28, 2, 35, -12]})\n",
    "data['normalized'] = (data['value'] - data['value'].min()) / (data['value'].max() - data['value'].min())\n",
    "```"
   ]
  },
  {
   "cell_type": "markdown",
   "metadata": {},
   "source": [
    "### Standardization\n",
    "\n",
    "Standardization (or z-score normalization) scales the values while taking into account standard deviation. If the standard deviation of features is different, their range also would differ from each other. This reduces the effect of the outliers in the features.\n",
    "\n",
    "```python\n",
    "data = pd.DataFrame({'value':[2,45, -23, 85, 28, 2, 35, -12]})\n",
    "data['standardized'] = (data['value'] - data['value'].mean()) / data['value'].std()\n",
    "```"
   ]
  },
  {
   "cell_type": "markdown",
   "metadata": {},
   "source": [
    "# Introduction to Scikit-learn"
   ]
  },
  {
   "cell_type": "markdown",
   "metadata": {},
   "source": [
    " \n",
    "We are going to see how to quickly and efficiently use the algorithms that we have studied till now. for that we are going to use [Scikit-learn](https://scikit-learn.org/stable/) which a python library in which we are going to see how to use:\n",
    " \n",
    "1. Linear Regression\n",
    "2. Logistic Regression\n",
    "3. Support Vector Machines (SVM)\n",
    "4. K-means Clustering\n",
    "5. Naive Bayes\n",
    " \n",
    "We are not going to show Decision trees as we already showed the scikit-learn implementation of that in the DecisionTrees and NaiveBayes Notebook.\n",
    " \n",
    "The library has a host of other algorithms implemented that we won't be covering to keep things inline but do checkout scikit learn's documentation for that.\n"
   ]
  },
  {
   "cell_type": "code",
   "execution_count": 6,
   "metadata": {},
   "outputs": [
    {
     "data": {
      "image/png": "[encoded data removed]",
      "text/plain": [
       "<Figure size 432x288 with 1 Axes>"
      ]
     },
     "metadata": {},
     "output_type": "display_data"
    }
   ],
   "source": [
    "import sklearn\n",
    "import numpy as np\n",
    "import matplotlib.pyplot as plt\n",
    "from sklearn import linear_model, datasets\n",
    "from sklearn.metrics import mean_squared_error, r2_score\n",
    "\n",
    "# Load the diabetes dataset\n",
    "diabetes_X, diabetes_y = datasets.load_diabetes(return_X_y=True)\n",
    "\n",
    "# Use only one feature\n",
    "diabetes_X = diabetes_X[:, np.newaxis, 2]\n",
    "\n",
    "# Split the data into training/testing sets\n",
    "diabetes_X_train = diabetes_X[:-20]\n",
    "diabetes_X_test = diabetes_X[-20:]\n",
    "\n",
    "# Split the targets into training/testing sets\n",
    "diabetes_y_train = diabetes_y[:-20]\n",
    "diabetes_y_test = diabetes_y[-20:]\n",
    "\n",
    "regression = linear_model.LinearRegression()\n",
    "\n",
    "# Train the regression model\n",
    "regression.fit(diabetes_X_train, diabetes_y_train)\n",
    "\n",
    "# Make predictions\n",
    "diabetes_y_pred = regression.predict(diabetes_X_test)\n",
    "\n",
    "# Plot the linear line fitted by the model\n",
    "plt.scatter(diabetes_X_test, diabetes_y_test,  color='orange')\n",
    "plt.plot(diabetes_X_test, diabetes_y_pred, color='green', linewidth=3)\n",
    "\n",
    "plt.xticks(())\n",
    "plt.yticks(())\n",
    "\n",
    "plt.show()"
   ]
  },
  {
   "cell_type": "markdown",
   "metadata": {},
   "source": [
    "### Logistic Regression"
   ]
  },
  {
   "cell_type": "code",
   "execution_count": 13,
   "metadata": {},
   "outputs": [
    {
     "name": "stdout",
     "output_type": "stream",
     "text": [
      "Accuracy: 0.9733333333333334\n"
     ]
    }
   ],
   "source": [
    "from sklearn.datasets import load_iris\n",
    "from sklearn.linear_model import LogisticRegression\n",
    "\n",
    "# Loading the iris dataset\n",
    "X, y = load_iris(return_X_y=True)\n",
    "\n",
    "log_reg = LogisticRegression(random_state=0, max_iter=130)\n",
    "\n",
    "# Training the model\n",
    "log_reg.fit(X, y)\n",
    "\n",
    "print(\"Accuracy: \"+ str(log_reg.score(X, y)))"
   ]
  },
  {
   "cell_type": "markdown",
   "metadata": {},
   "source": [
    "### Support Vector Machines(Classification)\n",
    " \n",
    "In this example we are going to use SVM from scikit-learn and also do some preprocessing which is just subtracting the data by the mean and dividing by standard deviation and create a pipeline so you don't need to pass the data to the the preprocessing step and then to SVM.\n"
   ]
  },
  {
   "cell_type": "code",
   "execution_count": 14,
   "metadata": {},
   "outputs": [
    {
     "name": "stdout",
     "output_type": "stream",
     "text": [
      "Accuracy: 0.9733333333333334\n"
     ]
    }
   ],
   "source": [
    "from sklearn.datasets import load_iris\n",
    "from sklearn.pipeline import make_pipeline\n",
    "from sklearn.preprocessing import StandardScaler\n",
    "from sklearn.svm import SVC\n",
    "\n",
    "# Loading the iris dataset\n",
    "X, y = load_iris(return_X_y=True)\n",
    "\n",
    "# Creating the pipeline with first the prepocessing\n",
    "# and then SVM\n",
    "svm_pipeline = make_pipeline(StandardScaler(),\n",
    "                    SVC(gamma='auto'))\n",
    "\n",
    "# Training the model\n",
    "svm_pipeline.fit(X, y)\n",
    "\n",
    "print(\"Accuracy: \"+ str(svm_pipeline.score(X, y)))"
   ]
  },
  {
   "cell_type": "markdown",
   "metadata": {},
   "source": [
    "As we see both Support Vector Machines and logistic regression were able to do good on a simple dataset. but SVMs generally outperform logistic regression in some conditions because the type of problem the SVM tries to solve is always convex and therefore always reaches a global minima and doesn't get stuck in local minima. \n"
   ]
  },
  {
   "cell_type": "markdown",
   "metadata": {},
   "source": [
    "### K-means Clustering"
   ]
  },
  {
   "cell_type": "code",
   "execution_count": 17,
   "metadata": {},
   "outputs": [
    {
     "data": {
      "text/plain": [
       "array([1, 1, 1, 0, 0, 0], dtype=int32)"
      ]
     },
     "execution_count": 17,
     "metadata": {},
     "output_type": "execute_result"
    }
   ],
   "source": [
    "from sklearn.cluster import KMeans\n",
    "import numpy as np\n",
    "\n",
    "# Initializing fake data\n",
    "X = np.array([[1, 2], [1, 4], [1, 0],\n",
    "              [10, 2], [10, 4], [10, 0]])\n",
    "\n",
    "# n_clusters is the number of clusters you want to \n",
    "# divide the data in\n",
    "kmeans = KMeans(n_clusters=2, random_state=0).fit(X)\n",
    "\n",
    "# Shows which data point was categorized into which cluster\n",
    "kmeans.labels_"
   ]
  },
  {
   "cell_type": "markdown",
   "metadata": {},
   "source": [
    "### Naive Bayes"
   ]
  },
  {
   "cell_type": "code",
   "execution_count": 18,
   "metadata": {},
   "outputs": [
    {
     "name": "stdout",
     "output_type": "stream",
     "text": [
      "Number of mislabeled points out of a total 75 points : 4\n"
     ]
    }
   ],
   "source": [
    "from sklearn.datasets import load_iris\n",
    "from sklearn.model_selection import train_test_split\n",
    "from sklearn.naive_bayes import GaussianNB\n",
    "\n",
    "X, y = load_iris(return_X_y=True)\n",
    "X_train, X_test, y_train, y_test = train_test_split(X, y, test_size=0.5, random_state=0)\n",
    "gnb = GaussianNB()\n",
    "y_pred = gnb.fit(X_train, y_train).predict(X_test)\n",
    "print(\"Number of mislabeled points out of a total %d points : %d\"\n",
    "      % (X_test.shape[0], (y_test != y_pred).sum()))"
   ]
  },
  {
   "cell_type": "markdown",
   "metadata": {},
   "source": [
    "[Anything and everything you need to know to use Scikit Learn](https://scikit-learn.org/stable/user_guide.html)"
   ]
  },
  {
   "cell_type": "markdown",
   "metadata": {},
   "source": [
    "# What are Neural Networks?\n",
    "\n",
    "[Neural Networks, forward and backward propagation](https://www.investopedia.com/terms/n/neuralnetwork.asp#:~:text=Neural%20networks%20are%20a%20series,fraud%20detection%20and%20risk%20assessment.) \n",
    "\n",
    "[Gradient Descent](https://ml-cheatsheet.readthedocs.io/en/latest/gradient_descent.html)\n",
    "\n",
    "[Activation Functions](https://towardsdatascience.com/activation-functions-neural-networks-1cbd9f8d91d6)"
   ]
  },
  {
   "cell_type": "markdown",
   "metadata": {},
   "source": [
    "## Activation Function\n",
    " \n",
    "Where **$ g $** is a sigmoid function in our example and these type of functions are called **Activation functions** in a neural network, the purpose of a activation function in a neural network is to induce non- linearity, let's see what I mean by that when we calculate $ Z $ or $Y\\_hat $ we always calculate a linear function of the form $$ y = mx + b $$ which if you remember is an equation of a line and that doesn't seems much non-linear to me and to fit the data better we include such activation functions which help in fitting complex functions to our data so we have better prediction or better accuracy at the end. \n",
    " \n",
    "<img src=\"./assets/sigmoid.png\" width=300/>\n",
    " \n",
    "A sigmoid function in python can be implemented something like this."
   ]
  },
  {
   "cell_type": "code",
   "execution_count": 2,
   "metadata": {},
   "outputs": [
    {
     "name": "stdout",
     "output_type": "stream",
     "text": [
      "Sigmoid of -2 is 0.11920292202211755\n"
     ]
    },
    {
     "data": {
      "text/plain": [
       "Text(0, 0.5, 'Sigmoid')"
      ]
     },
     "execution_count": 2,
     "metadata": {},
     "output_type": "execute_result"
    },
    {
     "data": {
      "image/png": "[encoded data removed]",
      "text/plain": [
       "<Figure size 432x288 with 1 Axes>"
      ]
     },
     "metadata": {
      "needs_background": "light"
     },
     "output_type": "display_data"
    }
   ],
   "source": [
    "import numpy as np\n",
    "from matplotlib import pyplot as plt\n",
    "\n",
    "def Sigmoid(x):\n",
    "    return (1 / (1 + np.exp(-x)))\n",
    "            \n",
    "# change the value here to see different output.\n",
    "inp = -2\n",
    "print(\"Sigmoid of \" + str(inp) + \" is \" + str(Sigmoid(inp)))\n",
    "\n",
    "# Plot of Sigmoid function\n",
    "inp = np.linspace(-5, 5)\n",
    "plt.plot(inp, Sigmoid(inp))\n",
    "plt.xlabel(\"X\")\n",
    "plt.ylabel(\"Sigmoid\")"
   ]
  },
  {
   "cell_type": "markdown",
   "metadata": {},
   "source": [
    "## Loss function \n",
    " \n",
    "So now as we know how to go through a step of forward Propagation let's take an example from our dummy dataset and try to understand how to find the hypothesis function $ h(X) $.\n",
    " \n",
    "For this example we will assume that the values of $ W_1, b_1, W_2 $ and $ b_2 $ are $ 0.009, -0.0140, 2700 $ and $ 437 $ respectively, The values of of the parameters $ W $ and $ b $ in an actual neural network are not so extreme such as some in decimal and some in thousands. \n",
    " \n",
    "Substituting all the values in a single step of forward propagation we get.\n",
    " \n",
    "1. $ Z = 0.0009 * 905 + -0.0140 = 0.8005 $\n",
    "2. $ A = g(0.8005) = 0.6900 $\n",
    "3. $ Y\\_hat = 2700 * 0.6900 + 456 = 2319 $\n",
    " \n",
    "$ Y\\_hat $ which is equal to 2319 seems to be pretty close to the actual value of 2500 but how do we adjust the parameters to get more close to the actual value how should we measure the difference or the **loss**.\n",
    " \n",
    "So the way we calculate the loss through a loss function called **Mean Square Error** is like this.\n",
    " \n",
    "<img src=\"./assets/mse.png\" width=300/>\n",
    " \n",
    "> From [Wikipeadia](https://en.wikipedia.org/wiki/Mean_squared_error#:~:text=In%20statistics%2C%20the%20mean%20squared,values%20and%20the%20actual%20value.)\n",
    " \n",
    "The loss for our example will be:\n",
    " \n",
    "$$ 1/2 *  Σ ((2500 - 2319)^2 ) = 32761 $$\n",
    " \n",
    "As we just had a single example $ n $ is equal to $ 1 $ and in deep learning we generally divide MSE with $ 2 $. A simple Implementation of the Mean Squared Error can be done something like this. This $ Σ $ charater is called and is used to denote sum of an vector in our case.\n"
   ]
  },
  {
   "cell_type": "code",
   "execution_count": 5,
   "metadata": {},
   "outputs": [
    {
     "name": "stdout",
     "output_type": "stream",
     "text": [
      "1\n"
     ]
    },
    {
     "data": {
      "text/plain": [
       "16380.5"
      ]
     },
     "execution_count": 5,
     "metadata": {},
     "output_type": "execute_result"
    }
   ],
   "source": [
    "def MSE(Y, Y_hat):\n",
    "    n = len(Y)\n",
    "    return (np.sum((Y - Y_hat)**2)) / (2 * n)\n",
    "\n",
    "# Try an array of numbers or just change the inputs to MSE to see how the output changes.\n",
    "Y = np.array([2500])\n",
    "Y_hat = np.array([2319])\n",
    "\n",
    "MSE(Y, Y_hat)"
   ]
  },
  {
   "cell_type": "markdown",
   "metadata": {},
   "source": [
    "## What will we do\n",
    " \n",
    "In this notebook we are going to implement a neural network from scratch in python and this time we are going to build a different neural network then the one that we used to explain neural networks. This time we are going to solve a classification problem. So there will be some minor changes to the network to use it for Classification. Let's look at them.\n",
    " \n",
    "## Softmax \n",
    " \n",
    "A softmax function takes a vector of input and gives out a vector with probabilities that obviously add up to one because they are probabilities and in our case a softmax unit at the end will tell us the probability of the class that the neural network thinks it is.\n",
    " \n",
    "Softmax is calculated by taking the elementwise exponent of the vector and then dividing elementwise by the sum of the vector after taking the exponent.\n",
    " \n",
    "<img src=\"./assets/softmax.png\" width=150>\n",
    " \n",
    " \n",
    "so let's take an example in our implementation we will be using the iris dataset which has 3 flowers['setosa', 'versicolor', 'virginica'] in the same order so for one example the true output looks like this.\n",
    " \n",
    "$$ Y = [0, 1, 0] $$\n",
    " \n",
    "This means that the second node in our neural network denotes a particular flower which is versicolor and we will be expecting a softmax output something like this.\n",
    " \n",
    "$$ Y_hat = [0.3, 0.95, 0.2] $$\n",
    " \n",
    "We pick the largest number in the vector to decide which class the neural network thinks this example denotes to.\n",
    " \n",
    "## Loss Function\n",
    " \n",
    "We will also use a new loss function named **Cross Entropy loss** to measure the classification loss between multiple classes.\n",
    " \n",
    "the formula for the loss is this where $ y_o $ is Y or the labels and $ P_o $ is the predicted label which you will also see in the below implementation. \n",
    " \n",
    "<img src=\"./assets/cross_entropy.png\" width=150>\n",
    " \n",
    " \n",
    "we will change the input units or the inputs($ X $) to 4 and the number of hidden units to 5 and the output is going to be 3 units as there are 3 flowers Now let's see the architecture of the neural network.\n",
    " \n",
    "<img src=\"./assets/nn.png\" width=700>\n",
    " \n",
    "The Forward, Backward and Gradient steps are going to remain the same, the only difference is that now instead of a scalar they are going to be matrices. Let's have a look over these steps again and I will be mentioning the matrix dimensions in front of all the variables this time.\n",
    " \n",
    "### Forward Propagation step\n",
    " \n",
    "As we know that we will be using a sigmoid function instead of $ g() $ and a softmax function at the end I will also be replacing that.\n",
    " \n",
    "1. $ Z_1 = W_1[5,4] * X[4,150] + b_1[5, 1]$\n",
    "2. $ A_1 = sigmoid(Z)[5, 150] $\n",
    "3. $ Z_2 = softmax(W_2[3, 5] * A_1[5,150] + b_2[3 ,1])$\n",
    "4. $ Y\\_hat = Z_2[3, 150] $\n",
    " \n",
    "### Backward Propagation step\n",
    " \n",
    "For backward Propagation we only used $ W1 $ as our example and the change their is that instead of calculating the derivative for a scalar we will be calculating the derivative for the whole vector or matrix but element wise. Let's take an example and suppose we had a vector A like the one below. \n",
    " \n",
    "$$ A = [2, 4, 5] $$\n",
    " \n",
    "So if say do an element wise square on $ A $, The result will be.\n",
    " \n",
    "$$ A^2 = [4, 16, 25] $$\n",
    " \n",
    "And as the loss function is changed the derivative of $ ∂E/∂Y\\_hat $ is also changed.\n",
    " \n",
    "1. $ ∂E/∂Y\\_hat = Y_hat - Y $\n",
    "2. $ ∂Y\\_hat/∂A = W_2 $\n",
    "3. $ ∂A/∂Z = A*(1 - A) $\n",
    "4. $ ∂Z/∂W_1 = X $\n",
    " \n",
    "finally the whole derivative for $ ∂E/∂W_1 $ will be.\n",
    " \n",
    "$$ ∂E/∂W_1 = (Y_hat - Y) * W_2 * A*(1 - A) * X $$\n",
    " \n",
    "### Gradient descent\n",
    " \n",
    "$$ W_1[5, 4] = W_1[5, 4] - α[1, 1] * ∂E/∂W_1[5, 4] $$ \n",
    "$$ b_1[5, 1] = b_1[5, 1] - α[1, 1] * ∂E/∂b_1[5, 1] $$\n",
    "$$ W_2[3, 5] = W_2[3, 5] - α[1, 1] * ∂E/∂W_2[3, 5] $$\n",
    "$$ b_2[3, 1] = b_2[3, 1] - α[1, 1] * ∂E/∂b_2[3, 1] $$\n",
    " \n",
    "Where $ α $ is going to be a scalar which we will broadcast to match the shape of our matrix to which it subtracts with. \n",
    " \n",
    "## Implementation\n",
    " "
   ]
  },
  {
   "cell_type": "code",
   "execution_count": null,
   "metadata": {},
   "outputs": [],
   "source": [
    "import numpy as np\n",
    "from sklearn import datasets, preprocessing\n",
    "\n",
    "def sigmoid(X):\n",
    "  return 1 / (1 + np.exp(-X))\n",
    "\n",
    "def sigmoid_der(x):\n",
    "  return sigmoid(x) * (1 - sigmoid(x))\n",
    "\n",
    "def softmax(X):\n",
    "  e = np.exp(X - X.max())\n",
    "  return (e / e.sum(axis=1, keepdims=True))\n",
    "\n",
    "def loss(Y, Y_hat):\n",
    "  loss = Y * np.log(Y_hat)\n",
    "  return -np.sum(loss)\n",
    "\n",
    "def neural_network_train(X, Y, num_iteration=1200):\n",
    "  # Random initializing the weights and bias\n",
    "\n",
    "  W_1 = np.random.randn(5, 4)\n",
    "  b_1 = np.random.randn(1, 5)\n",
    "  \n",
    "  W_2 = np.random.randn(3, 5)\n",
    "  b_2 = np.random.randn(1, 3)\n",
    "\n",
    "  # Defining the learning rate\n",
    "\n",
    "  lr = 1e-3\n",
    "\n",
    "  for iteration in range(num_iteration):\n",
    "      # Forward Propagation\n",
    "\n",
    "    Z_1 = np.dot(X, W_1.T) + b_1\n",
    "    A_1 = sigmoid(Z_1)\n",
    "    Z_2 = np.dot(A_1, W_2.T) + b_2\n",
    "    Y_hat = softmax(Z_2)\n",
    "\n",
    "    # Backward Propagation\n",
    "\n",
    "    dE_dY_hat = Y_hat - Y\n",
    "    dY_hat_dW_2 = A_1\n",
    "\n",
    "    dE_dW_2 = np.dot(dY_hat_dW_2.T, dE_dY_hat)\n",
    "\n",
    "    dE_db_2 = dE_dY_hat\n",
    "\n",
    "    dZ_2_dA_1 = W_2\n",
    "    dE_dA_1 = np.dot(dE_dY_hat, dZ_2_dA_1)\n",
    "    dA_1_dZ_1 = sigmoid_der(Z_1)\n",
    "    dZ_1_dW_1 = X\n",
    "    dE_dW_1 = np.dot(dZ_1_dW_1.T, dA_1_dZ_1 * dE_dA_1)\n",
    "\n",
    "    dE_db_1 = dE_dA_1 * dA_1_dZ_1\n",
    "\n",
    "    # Gradient Descent\n",
    "\n",
    "    W_2 = W_2 - lr * dE_dW_2.T\n",
    "    b_2 = b_2 - lr * dE_db_2.sum(axis=0)\n",
    "\n",
    "    W_1 = W_1 - lr * dE_dW_1.T\n",
    "    b_1 = b_1 - lr * dE_db_1.sum(axis=0)\n",
    "\n",
    "\n",
    "    if iteration % 5 == 0:\n",
    "      print(\"iteration : \", iteration, \"   loss : \", loss(Y, Y_hat))\n",
    "\n",
    "if __name__ == \"__main__\":\n",
    "  X, Y = datasets.load_iris(return_X_y=True)\n",
    "\n",
    "  # Preprocessing the data to have a mean 0 and variance 1\n",
    "  X = preprocessing.scale(X)\n",
    "  # Y has the shape (150, ) rather than (150, 1)\n",
    "  Y = Y.reshape(150,1)\n",
    "  neural_network_train(X, Y)\n"
   ]
  },
  {
   "cell_type": "markdown",
   "metadata": {},
   "source": [
    "[Hyperparameters and Parameters](https://towardsdatascience.com/model-parameters-and-hyperparameters-in-machine-learning-what-is-the-difference-702d30970f6)"
   ]
  }
 ],
 "metadata": {
  "kernelspec": {
   "display_name": "Python 3",
   "language": "python",
   "name": "python3"
  },
  "language_info": {
   "codemirror_mode": {
    "name": "ipython",
    "version": 3
   },
   "file_extension": ".py",
   "mimetype": "text/x-python",
   "name": "python",
   "nbconvert_exporter": "python",
   "pygments_lexer": "ipython3",
   "version": "3.8.2"
  }
 },
 "nbformat": 4,
 "nbformat_minor": 4
}

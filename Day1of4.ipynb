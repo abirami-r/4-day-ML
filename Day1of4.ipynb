{
 "cells": [
  {
   "cell_type": "markdown",
   "metadata": {},
   "source": [
    "# Introduction to Machine Learning\n",
    "\n",
    "Parts of this notebook are from CS231n [Python tutorial]((http://cs231n.github.io/python-numpy-tutorial/)) by Justin Johnson and [cs228-python-tutorial](https://github.com/kuleshov/cs228-material/blob/master/tutorials/python/cs228-python-tutorial.ipynb) by [Volodymyr Kuleshov](http://web.stanford.edu/~kuleshov/) and [Isaac Caswell](https://symsys.stanford.edu/viewing/symsysaffiliate/21335)."
   ]
  },
  {
   "cell_type": "markdown",
   "metadata": {},
   "source": [
    "## Introduction to python"
   ]
  },
  {
   "cell_type": "markdown",
   "metadata": {},
   "source": [
    "In this tutorial, we will cover:\n",
    "* **Data Types**: Different data types available in python\n",
    "* **Containers**: Various data structures available in python\n",
    "* **Functions**: Creating functions and how to use them in python\n",
    "* **Classes**: Creating classes and using them in python\n",
    "* **File I/O**: Different file related input/output operations\n"
   ]
  },
  {
   "cell_type": "markdown",
   "metadata": {},
   "source": [
    "## Data Types"
   ]
  },
  {
   "cell_type": "markdown",
   "metadata": {},
   "source": [
    "Like most languages, Python has a number of basic types including integers, floats, booleans, and strings. These data types behave in ways that are familiar from other programming languages:"
   ]
  },
  {
   "cell_type": "markdown",
   "metadata": {},
   "source": [
    "**Numbers, Strings and Lists**"
   ]
  },
  {
   "cell_type": "markdown",
   "metadata": {},
   "source": [
    "Python also has built-in types for long integers and complex numbers; you can find all of the details in the [documentation](https://docs.python.org/3/library/stdtypes.html#numeric-types-int-float-long-complex).\n",
    "\n",
    "To learn more about Numbers, String and Lists. [documentation](https://docs.python.org/3/tutorial/introduction.html)\n",
    "\n",
    "Everything you need to know about built-in types. [documentation](https://docs.python.org/3/library/stdtypes.html#bytes-and-bytearray-operations) \n",
    "\n",
    "You can find a list of all string methods in the [documentation](https://docs.python.org/3/library/stdtypes.html#string-methods)."
   ]
  },
  {
   "cell_type": "markdown",
   "metadata": {},
   "source": [
    "### Functions"
   ]
  },
  {
   "cell_type": "markdown",
   "metadata": {},
   "source": [
    "Python functions are defined using the def keyword. For example:"
   ]
  },
  {
   "cell_type": "code",
   "execution_count": 34,
   "metadata": {},
   "outputs": [
    {
     "name": "stdout",
     "output_type": "stream",
     "text": [
      "negative\n",
      "zero\n",
      "positive\n"
     ]
    }
   ],
   "source": [
    "def sign(x):\n",
    "    if x > 0:\n",
    "        return 'positive'\n",
    "    elif x < 0:\n",
    "        return 'negative'\n",
    "    else:\n",
    "        return 'zero'\n",
    "\n",
    "for x in [-1, 0, 1]:\n",
    "    print(sign(x))\n",
    "    "
   ]
  },
  {
   "cell_type": "markdown",
   "metadata": {},
   "source": [
    "We will often define functions to take optional keyword arguments, like this:"
   ]
  },
  {
   "cell_type": "code",
   "execution_count": 35,
   "metadata": {},
   "outputs": [
    {
     "name": "stdout",
     "output_type": "stream",
     "text": [
      "Hello, Bob\n",
      "HELLO, FRED!\n"
     ]
    }
   ],
   "source": [
    "def hello(name, loud=False):\n",
    "    if loud:\n",
    "        print('HELLO, %s!' % name.upper())\n",
    "    else:\n",
    "        print('Hello, %s' % name)\n",
    "\n",
    "hello('Bob')\n",
    "hello('Fred', loud=True)"
   ]
  },
  {
   "cell_type": "markdown",
   "metadata": {},
   "source": [
    "### Classes"
   ]
  },
  {
   "cell_type": "markdown",
   "metadata": {},
   "source": [
    "The syntax for defining classes in Python is straightforward:"
   ]
  },
  {
   "cell_type": "code",
   "execution_count": 36,
   "metadata": {},
   "outputs": [
    {
     "name": "stdout",
     "output_type": "stream",
     "text": [
      "Hello, Fred\n",
      "HELLO, FRED!\n"
     ]
    }
   ],
   "source": [
    "class Greeter(object):\n",
    "\n",
    "    # Constructor\n",
    "    def __init__(self, name):\n",
    "        self.name = name  # Create an instance variable\n",
    "\n",
    "    # Instance method\n",
    "    def greet(self, loud=False):\n",
    "        if loud:\n",
    "            print('HELLO, %s!' % self.name.upper())\n",
    "        else:\n",
    "            print('Hello, %s' % self.name)\n",
    "\n",
    "g = Greeter('Fred')  # Construct an instance of the Greeter class\n",
    "g.greet()            # Call an instance method; prints \"Hello, Fred\"\n",
    "g.greet(loud=True)   # Call an instance method; prints \"HELLO, FRED!\""
   ]
  },
  {
   "cell_type": "markdown",
   "metadata": {},
   "source": [
    "### File I/O Operations"
   ]
  },
  {
   "cell_type": "markdown",
   "metadata": {},
   "source": [
    "In Python, a physical file must be mapped to a built-in file object with the help of built-in function `open()`."
   ]
  },
  {
   "cell_type": "markdown",
   "metadata": {},
   "source": [
    "#### Writing to a File"
   ]
  },
  {
   "cell_type": "markdown",
   "metadata": {},
   "source": [
    "Two different built-in methods are provided to write data to a file:\n",
    "\n",
    "* `write()`: writes string into a text file in a single line.\n",
    "* `writelines()`: writes list of string into a text file in multiple lines."
   ]
  },
  {
   "cell_type": "code",
   "execution_count": 37,
   "metadata": {},
   "outputs": [],
   "source": [
    "strings = [\"Welcome to Nimblebox\\n\", \"Open source is the best\"]\n",
    "with open(\"output.txt\", \"w+\") as file:\n",
    "    file.write(\"Hey there user!\\n\")\n",
    "    file.writelines(strings)"
   ]
  },
  {
   "cell_type": "markdown",
   "metadata": {},
   "source": [
    "#### Reading from a File"
   ]
  },
  {
   "cell_type": "markdown",
   "metadata": {},
   "source": [
    "Three different built-in methods are provided to read data from a file:\n",
    "\n",
    "* `readline()`: reads the characters starting from the current reading position up to a newline character.\n",
    "* `read()`: reads the specified number of characters starting from the current position.\n",
    "* `readlines()`: reads all lines until the end of file and returns a list object"
   ]
  },
  {
   "cell_type": "code",
   "execution_count": 38,
   "metadata": {},
   "outputs": [
    {
     "name": "stdout",
     "output_type": "stream",
     "text": [
      "Hey there user!\n",
      "\n"
     ]
    }
   ],
   "source": [
    "with open(\"output.txt\", \"r\") as file:\n",
    "    data = file.readline()\n",
    "    print(data)"
   ]
  },
  {
   "cell_type": "markdown",
   "metadata": {},
   "source": [
    "Looping through the contents of the files is pretty easy in Python"
   ]
  },
  {
   "cell_type": "code",
   "execution_count": 39,
   "metadata": {},
   "outputs": [
    {
     "name": "stdout",
     "output_type": "stream",
     "text": [
      "Hey there user!\n",
      "\n",
      "Welcome to Nimblebox\n",
      "\n",
      "Open source is the best\n"
     ]
    }
   ],
   "source": [
    "with open(\"output.txt\", \"r\") as file:\n",
    "    for line in file:\n",
    "        print(line)"
   ]
  },
  {
   "cell_type": "markdown",
   "metadata": {},
   "source": [
    "It is highly recommened to take a look at [Harrison Kinsley's](https://www.youtube.com/playlist?list=PLQVvvaa0QuDeAams7fkdcwOGBpGdHpXln) tutorial series on Python to futher enhance your knowlegde base about Python."
   ]
  },
  {
   "cell_type": "markdown",
   "metadata": {},
   "source": [
    "# Introduction to NumPy"
   ]
  },
  {
   "cell_type": "markdown",
   "metadata": {},
   "source": [
    "\n",
    "* **Basics**: Different ways to create NumPy Arrays and Basics of NumPy\n",
    "* **Computation**: Computations on NumPy arrays using Universal Functions and other NumPy Routines\n",
    "* **Aggregations**: Various function used to aggregate for NumPy arrays"
   ]
  },
  {
   "cell_type": "markdown",
   "metadata": {},
   "source": [
    "### Basics"
   ]
  },
  {
   "cell_type": "markdown",
   "metadata": {},
   "source": [
    "##### If you're very new to NumPy, check this out [Documentation](https://numpy.org/devdocs/user/absolute_beginners.html)"
   ]
  },
  {
   "cell_type": "markdown",
   "metadata": {},
   "source": [
    "**NumPy converts to most logical data type**"
   ]
  },
  {
   "cell_type": "code",
   "execution_count": 7,
   "metadata": {
    "colab": {},
    "colab_type": "code",
    "id": "j9amYbD0pnSA",
    "outputId": "5135d974-2085-4c47-abd2-420cdbed54df"
   },
   "outputs": [
    {
     "name": "stdout",
     "output_type": "stream",
     "text": [
      "[1.2 2.  3.  4. ]\n",
      "float64\n"
     ]
    }
   ],
   "source": [
    "data1 = np.array([1.2, 2, 3, 4])\n",
    "print(data1)\n",
    "print(data1.dtype) # all values will be converted to floats"
   ]
  },
  {
   "cell_type": "markdown",
   "metadata": {},
   "source": [
    "In order to perform any mathematical operations on NumPy arrays, all the elements must be of a type that is valid to perform these mathematical operations."
   ]
  },
  {
   "cell_type": "markdown",
   "metadata": {},
   "source": [
    "**Error is resolved by just changing the dtype of 'a' manually**"
   ]
  },
  {
   "cell_type": "code",
   "execution_count": 24,
   "metadata": {},
   "outputs": [
    {
     "name": "stdout",
     "output_type": "stream",
     "text": [
      "[ 1  3  4  6  8 10 13 14 16 17]\n"
     ]
    }
   ],
   "source": [
    "a = np.random.normal(0,1,10)\n",
    "a = a.astype(np.int16)\n",
    "b = np.arange(10, dtype=np.int16)\n",
    "c = np.arange(10, dtype=np.int16)\n",
    "c += a + b\n",
    "print(c)"
   ]
  },
  {
   "cell_type": "markdown",
   "metadata": {},
   "source": [
    "Unlike python list, we can create multi-dimensional arrays using NumPy."
   ]
  },
  {
   "cell_type": "markdown",
   "metadata": {},
   "source": [
    "**Nested lists result in multi-dimensional arrays**"
   ]
  },
  {
   "cell_type": "code",
   "execution_count": 14,
   "metadata": {},
   "outputs": [
    {
     "name": "stdout",
     "output_type": "stream",
     "text": [
      "[[2 3 4]\n",
      " [4 5 6]\n",
      " [6 7 8]]\n"
     ]
    }
   ],
   "source": [
    "x1 = np.array([range(i, i + 3) for i in [2, 4, 6]])\n",
    "print(x1)"
   ]
  },
  {
   "cell_type": "markdown",
   "metadata": {},
   "source": [
    "For more information and other NumPy operations based on Python list, refer to the [NumPy documentation](http://numpy.org/)."
   ]
  },
  {
   "cell_type": "markdown",
   "metadata": {},
   "source": [
    "**Using NumPy routines**"
   ]
  },
  {
   "cell_type": "markdown",
   "metadata": {},
   "source": [
    "##### Create a 3x3 array of uniformly distributed random values between 0 and 1"
   ]
  },
  {
   "cell_type": "code",
   "execution_count": 15,
   "metadata": {},
   "outputs": [
    {
     "name": "stdout",
     "output_type": "stream",
     "text": [
      "[[0.84656241 0.61961238 0.19955991]\n",
      " [0.89190871 0.65471397 0.03095116]\n",
      " [0.93051268 0.33584247 0.80735685]]\n"
     ]
    }
   ],
   "source": [
    "print(np.random.random((3, 3)))"
   ]
  },
  {
   "cell_type": "markdown",
   "metadata": {},
   "source": [
    "##### Create a 3x3 array of normally distributed random values with mean 0 and standard deviation 1"
   ]
  },
  {
   "cell_type": "code",
   "execution_count": 16,
   "metadata": {},
   "outputs": [
    {
     "name": "stdout",
     "output_type": "stream",
     "text": [
      "[[ 0.50109517 -1.07614452 -0.10107323]\n",
      " [ 1.29574169 -0.46030814 -0.25632801]\n",
      " [ 1.03215511  0.70735419 -0.66970457]]\n"
     ]
    }
   ],
   "source": [
    "print(np.random.normal(0, 1, (3, 3)))"
   ]
  },
  {
   "cell_type": "markdown",
   "metadata": {},
   "source": [
    "You can always explore the [documentation](http://numpy.org/) for more."
   ]
  },
  {
   "cell_type": "markdown",
   "metadata": {},
   "source": [
    "**Attributes of NumPy Array**"
   ]
  },
  {
   "cell_type": "markdown",
   "metadata": {},
   "source": [
    "Each NumPy array has the following attributes,"
   ]
  },
  {
   "cell_type": "code",
   "execution_count": 19,
   "metadata": {},
   "outputs": [
    {
     "name": "stdout",
     "output_type": "stream",
     "text": [
      "x3 ndim:  3\n",
      "x3 shape: (3, 4, 5)\n",
      "x3 size:  60\n",
      "dtype: int64\n",
      "itemsize: 8 bytes\n",
      "nbytes: 480 bytes\n"
     ]
    }
   ],
   "source": [
    "x3 = np.random.randint(10, size=(3, 4, 5))  # Create a 3-D array\n",
    "\n",
    "print(\"x3 ndim: \", x3.ndim) # np.ndim yields the number of dimensions \n",
    "print(\"x3 shape:\", x3.shape) # np.shape yields the size of each dimension\n",
    "print(\"x3 size: \", x3.size) # np.size yields the total size of the array\n",
    "print(\"dtype:\", x3.dtype) # np.dtype yields the data type of the array\n",
    "print(\"itemsize:\", x3.itemsize, \"bytes\") # np.itemsize yields the size (in bytes) of each array element\n",
    "print(\"nbytes:\", x3.nbytes, \"bytes\") # np.nbytes yields the total size (in bytes) of the array"
   ]
  },
  {
   "cell_type": "markdown",
   "metadata": {},
   "source": [
    "For more information, refer the [documentation](http://numpy.org/)."
   ]
  },
  {
   "cell_type": "markdown",
   "metadata": {
    "colab_type": "text",
    "id": "8nAlWhr8pnSc"
   },
   "source": [
    "##### Accessing elements: Slicing and Indexing"
   ]
  },
  {
   "cell_type": "markdown",
   "metadata": {},
   "source": [
    "Slicing and Indexing of NumPy Arrays is quite similar to that of Python lists"
   ]
  },
  {
   "cell_type": "code",
   "execution_count": 20,
   "metadata": {
    "colab": {},
    "colab_type": "code",
    "id": "xkrmJM2OpnSd",
    "outputId": "664d3a4f-62b7-4227-8c37-05d287b8f6e4"
   },
   "outputs": [
    {
     "name": "stdout",
     "output_type": "stream",
     "text": [
      "Original Data:\n",
      " [0 1 2 3 4 5 6 7 8 9] \n",
      "\n",
      "Indexing NumPy Array:\n",
      "   4\n",
      "   9 \n",
      "\n",
      "Slicing NumPy Array:\n",
      "   [0 1 2 3 4]\n",
      "   [9 8 7 6 5 4 3 2 1 0]\n"
     ]
    }
   ],
   "source": [
    "data = np.arange(10) # Create a 1-D array\n",
    "print(\"Original Data:\\n\", data, \"\\n\")\n",
    "\n",
    "# Indexing\n",
    "print(\"Indexing NumPy Array:\")\n",
    "print(\"  \", data[4]) # 4th element of the numpy array\n",
    "print(\"  \", data[-1], \"\\n\") # 1st element from right side of the numpy array\n",
    "\n",
    "# Slicing: To access a slice of an array 'data', we use this `data[start:stop:step]`\n",
    "print(\"Slicing NumPy Array:\")\n",
    "print(\"  \", data[:5]) # First 5 element of the numpy array\n",
    "print(\"  \", data[::-1]) # All the elements of the numpy array but in reverse order\n"
   ]
  },
  {
   "cell_type": "markdown",
   "metadata": {},
   "source": [
    "<u><i>Indexing in a multi-dimentional NumPy Array</i></u>: Multi-dimensional indices work in the same way, with multiple indices separated by commas"
   ]
  },
  {
   "cell_type": "markdown",
   "metadata": {},
   "source": [
    "##### 3-D array"
   ]
  },
  {
   "cell_type": "code",
   "execution_count": 27,
   "metadata": {},
   "outputs": [
    {
     "name": "stdout",
     "output_type": "stream",
     "text": [
      "[[[5 9 7 3 8]\n",
      "  [6 0 5 9 1]\n",
      "  [4 7 0 5 5]\n",
      "  [4 8 0 0 2]]\n",
      "\n",
      " [[8 7 4 1 2]\n",
      "  [9 0 6 1 5]\n",
      "  [4 1 5 7 4]\n",
      "  [1 6 5 0 9]]\n",
      "\n",
      " [[1 2 8 9 0]\n",
      "  [8 4 5 8 7]\n",
      "  [5 0 1 9 6]\n",
      "  [3 3 8 9 4]]]\n"
     ]
    }
   ],
   "source": [
    "x3 = np.random.randint(10, size=(3, 4, 5))\n",
    "print(x3)"
   ]
  },
  {
   "cell_type": "markdown",
   "metadata": {},
   "source": [
    "For further exploration, refer the [documentation](https://numpy.org/doc/1.17/user/basics.indexing.html) of NumPy"
   ]
  },
  {
   "cell_type": "markdown",
   "metadata": {
    "colab_type": "text",
    "id": "_lF7_W83pnSp"
   },
   "source": [
    "**Python Lists and NumPy Arrays**"
   ]
  },
  {
   "cell_type": "markdown",
   "metadata": {},
   "source": [
    "NumPy utilizes efficient pointers to a location in memory and it will store the full array. Lists on the other hand are pointers to many different objects in memory."
   ]
  },
  {
   "cell_type": "markdown",
   "metadata": {},
   "source": [
    "<u><i>Subarray (default returns)</i></u>: Slicing returns a view for a NumPy Array, where as Python Lists returns a copy the list"
   ]
  },
  {
   "cell_type": "markdown",
   "metadata": {},
   "source": [
    "##### Let's create a NumPy Array and slice it"
   ]
  },
  {
   "cell_type": "code",
   "execution_count": 31,
   "metadata": {
    "colab": {},
    "colab_type": "code",
    "id": "ZYjzWMhOpnSq",
    "outputId": "e0b4f769-796d-45fb-c494-191decd1c3a2"
   },
   "outputs": [
    {
     "name": "stdout",
     "output_type": "stream",
     "text": [
      "Pre-slicing NumPy Array:  [4 2 3 3 2 7 0 9 5 0]\n",
      "Slice of NumPy Array:  [4 2 3]\n",
      "\n",
      "Pre-slicing Python List:  [9, 2, 6, 4, 1, 8, 7, 0, 3, 5]\n",
      "Slice of Python List:  [9, 2, 6]\n"
     ]
    }
   ],
   "source": [
    "data_numpy = np.random.randint(10, size=(10))\n",
    "print(\"Pre-slicing NumPy Array: \", data_numpy)\n",
    "slicing_numpy = data_numpy[0:3]\n",
    "print(\"Slice of NumPy Array: \", slicing_numpy)\n",
    "\n",
    "import random\n",
    "data_list = random.sample(range(0, 10), 10)\n",
    "print(\"\\nPre-slicing Python List: \", data_list)\n",
    "slicing_list = data_list[0:3]\n",
    "print(\"Slice of Python List: \", slicing_list)"
   ]
  },
  {
   "cell_type": "markdown",
   "metadata": {},
   "source": [
    "##### Let's change the first element of both array and list"
   ]
  },
  {
   "cell_type": "code",
   "execution_count": 29,
   "metadata": {
    "colab": {},
    "colab_type": "code",
    "id": "0MKQXKtgpnSy",
    "outputId": "92a7cfc2-d420-4fea-b1af-d46f70efc531"
   },
   "outputs": [
    {
     "name": "stdout",
     "output_type": "stream",
     "text": [
      "Slice of NumPy Array:  [-1  4  5]\n",
      "Slice of Python List:  [-1, 8, 4]\n"
     ]
    }
   ],
   "source": [
    "slicing_numpy[0] = -1\n",
    "print(\"Slice of NumPy Array: \", slicing_numpy)\n",
    "slicing_list[0] = -1\n",
    "print(\"Slice of Python List: \", slicing_list)"
   ]
  },
  {
   "cell_type": "code",
   "execution_count": 30,
   "metadata": {
    "colab": {},
    "colab_type": "code",
    "id": "wKrkBwF2pnS2",
    "outputId": "0774c345-7ace-4573-d604-89b26fdc506f"
   },
   "outputs": [
    {
     "name": "stdout",
     "output_type": "stream",
     "text": [
      "Post-slicing NumPy array:  [-1  4  5  3  8  7  0  4  1  6]\n",
      "Post-slicing Python list:  [3, 8, 4, 2, 9, 1, 0, 7, 6, 5]\n"
     ]
    }
   ],
   "source": [
    "print(\"Post-slicing NumPy array: \", data_numpy) # has changed\n",
    "print(\"Post-slicing Python list: \", data_list) # has not changed"
   ]
  },
  {
   "cell_type": "markdown",
   "metadata": {},
   "source": [
    "<u><i>Subarray (custom)</i></u>: Slicing of NumPy Array should create a copy of the array just like Python Lists"
   ]
  },
  {
   "cell_type": "markdown",
   "metadata": {},
   "source": [
    "##### Creating copies of the array instead of views"
   ]
  },
  {
   "cell_type": "code",
   "execution_count": 31,
   "metadata": {
    "colab": {},
    "colab_type": "code",
    "id": "FmLdcrTXpnS5",
    "outputId": "2432ceba-3501-4b9f-fa06-44fafbe7622a"
   },
   "outputs": [
    {
     "name": "stdout",
     "output_type": "stream",
     "text": [
      "Pre-slicing NumPy Array:  [4 5 8 0 8 8 7 4 4 9]\n",
      "Slice of NumPy Array:  [4 5 8]\n"
     ]
    }
   ],
   "source": [
    "data_numpy = np.random.randint(10, size=(10))\n",
    "print(\"Pre-slicing NumPy Array: \", data_numpy)\n",
    "slicing_numpy_copy = data_numpy[0:3].copy()\n",
    "print(\"Slice of NumPy Array: \", slicing_numpy_copy)"
   ]
  },
  {
   "cell_type": "markdown",
   "metadata": {},
   "source": [
    "##### Let's chage the first element of our numpy array and observe"
   ]
  },
  {
   "cell_type": "code",
   "execution_count": null,
   "metadata": {
    "colab": {},
    "colab_type": "code",
    "id": "wfIdJgLApnS7",
    "outputId": "e6163bd6-063f-426d-b875-dd78a62d3fca"
   },
   "outputs": [],
   "source": [
    "slicing_numpy_copy[0] = -1\n",
    "print(\"Post-slicing NumPy Array: \", slicing_numpy_copy)\n",
    "print(\"Pre-slicing NumPy Array: \", data_numpy) # now it is not a view any more but we created a copy of data_numpy"
   ]
  },
  {
   "cell_type": "markdown",
   "metadata": {
    "colab_type": "text",
    "id": "dC5uIhS-pnTv"
   },
   "source": [
    "### Computation "
   ]
  },
  {
   "cell_type": "markdown",
   "metadata": {},
   "source": [
    "#### 1. Universal Function\n",
    "A universal function (or ufunc) that is applied on an `ndarray` in an element-by-element fashion. That is, a ufunc is a “vectorized” wrapper for a function that takes a fixed number of specific inputs and produces a fixed number of specific outputs."
   ]
  },
  {
   "cell_type": "code",
   "execution_count": 34,
   "metadata": {
    "colab": {},
    "colab_type": "code",
    "id": "OXKDS1blpnTv",
    "outputId": "c2bce9ef-f972-4fa6-8202-a615c846130d"
   },
   "outputs": [
    {
     "name": "stdout",
     "output_type": "stream",
     "text": [
      "Array 'x' =  [3 8 3 9 1 2 6 6 6 2]\n",
      "Array 'y' =  [ 9  8  5  7 10  1  6  6  5  5]\n"
     ]
    }
   ],
   "source": [
    "x = np.random.randint(1, 11, size=(10))\n",
    "y = np.random.randint(1, 11, size=(10))\n",
    "print (\"Array 'x' = \", x)\n",
    "print (\"Array 'y' = \", y)"
   ]
  },
  {
   "cell_type": "markdown",
   "metadata": {},
   "source": [
    "Each of these arithmetic operations are simply convenient wrappers around specific functions built into NumPy, for example, the `+` operator is a wrapper for the `add` function"
   ]
  },
  {
   "cell_type": "code",
   "execution_count": 36,
   "metadata": {
    "colab": {},
    "colab_type": "code",
    "id": "tk6s0qqopnT7",
    "outputId": "d3202563-8765-41f9-a64e-867d2da99448"
   },
   "outputs": [
    {
     "name": "stdout",
     "output_type": "stream",
     "text": [
      "[12 16  8 16 11  3 12 12 11  7]\n",
      "[-6  0 -2  2 -9  1  0  0  1 -3]\n",
      "[27 64 15 63 10  2 36 36 30 10]\n",
      "[3 0 3 2 1 0 0 0 1 2]\n"
     ]
    }
   ],
   "source": [
    "print(np.add(x, y))\n",
    "print(np.subtract(x, y))\n",
    "print(np.multiply(x, y))\n",
    "print(np.mod(x, y))"
   ]
  },
  {
   "cell_type": "markdown",
   "metadata": {
    "colab": {},
    "colab_type": "code",
    "id": "jHhRzVT7pnUA",
    "outputId": "7818293f-8297-4e3a-f7f6-996956eed422"
   },
   "source": [
    "The following table lists some of the `ufunc` implemented in NumPy:\n",
    "\n",
    "\n",
    "| Universal Functions\t  | Operator (if any)  | Description                                                    |\n",
    "|:-----------------------:|:------------------:|:--------------------------------------------------------------:|\n",
    "|``np.add``               | ``+``              |Addition (e.g., ``[10  6  8] + [3 10  6] = [13 16 14]``)        |\n",
    "|``np.subtract``          | ``-``              |Subtraction (e.g., ``[10  6  8] - [3 10  6] = [ 7 -4  2]``)     |\n",
    "|``np.negative``          | ``-``              |Unary negation (e.g., ``[-10  -6  -8]``)                        |\n",
    "|``np.multiply``          | ``*``              |Multiplication (e.g., ``[10  6  8] * [3 10  6] = [30 60 48]``)  |\n",
    "|``np.divide``            | ``/``              |Division (e.g., ``[10  6  8] / [3 10  6] = [3.33 0.6 1.33]``)   |\n",
    "|``np.floor_divide``      | ``//``             |Floor division (e.g., ``[10  6  8] // [3 10  6] = [3 0 1]``)    |\n",
    "|``np.mod``               | ``%``              |Modulus/remainder (e.g., ``[10  6  8] % [3 10  6] = [1 6 2]``)  |\n",
    "|``np.log``               |                    |Natural logarithm, element-wise                                 |\n",
    "|``np.log2``              |                    |Base-2 logarithm of x                                           |\n"
   ]
  },
  {
   "cell_type": "markdown",
   "metadata": {},
   "source": [
    "More information on universal functions (including the full list of available functions) can found in the NumPy [documentation](https://numpy.org/doc/1.17/reference/ufuncs.html)."
   ]
  },
  {
   "cell_type": "markdown",
   "metadata": {},
   "source": [
    "#### 2. NumPy Routines\n",
    "\n",
    "NumPy being a the scientific computing package, it has several in-build routines/functions to aid mathematical and scientific computing. Some of the common routines used in Machine Learning are discussed below."
   ]
  },
  {
   "cell_type": "markdown",
   "metadata": {},
   "source": [
    "##### NumPy allows use to concatenate or append different NumPy Arrays"
   ]
  },
  {
   "cell_type": "code",
   "execution_count": 38,
   "metadata": {},
   "outputs": [
    {
     "name": "stdout",
     "output_type": "stream",
     "text": [
      "'a':\n",
      " [[[ 2  4]\n",
      "  [10  3]\n",
      "  [ 7  2]]\n",
      "\n",
      " [[ 1  3]\n",
      "  [ 6  6]\n",
      "  [ 8  7]]\n",
      "\n",
      " [[ 3  6]\n",
      "  [ 6  3]\n",
      "  [ 3  6]]] \n",
      "\n",
      "'b':\n",
      " [[[ 3  9  9]\n",
      "  [ 4 10  3]\n",
      "  [ 5  5  8]]\n",
      "\n",
      " [[ 3  4  4]\n",
      "  [10  2  5]\n",
      "  [ 5  8  2]]\n",
      "\n",
      " [[ 1  1  5]\n",
      "  [ 4  9  6]\n",
      "  [ 9  1  8]]] \n",
      "\n",
      "'c':\n",
      " [[[1 1]\n",
      "  [1 1]\n",
      "  [1 1]]] \n",
      "\n",
      "'d':\n",
      " [[[1 1]]\n",
      "\n",
      " [[1 1]]\n",
      "\n",
      " [[1 1]]] \n",
      "\n"
     ]
    }
   ],
   "source": [
    "a = np.random.randint(1, 11, size=(3, 3, 2))\n",
    "b = np.random.randint(1, 11, size=(3, 3, 3))\n",
    "c = np.ones((1, 3, 2), dtype=\"int32\")\n",
    "d = np.ones((3, 1, 2), dtype=\"int32\")\n",
    "\n",
    "print(\"'a':\\n\", a, \"\\n\")\n",
    "print(\"'b':\\n\", b, \"\\n\")\n",
    "print(\"'c':\\n\", c, \"\\n\")\n",
    "print(\"'d':\\n\", d, \"\\n\")"
   ]
  },
  {
   "cell_type": "markdown",
   "metadata": {},
   "source": [
    "##### Let's create a random NumPy Array"
   ]
  },
  {
   "cell_type": "code",
   "execution_count": 39,
   "metadata": {},
   "outputs": [
    {
     "name": "stdout",
     "output_type": "stream",
     "text": [
      "Original Array Shape:  (9,)\n",
      "Original Array:  [ 6  3 10  6  9 10  9  2  8] \n",
      "\n",
      "New Array Shape:  (3, 3)\n",
      "New Array:\n",
      " [[ 6  3 10]\n",
      " [ 6  9 10]\n",
      " [ 9  2  8]]\n"
     ]
    }
   ],
   "source": [
    "numpy_array = np.random.randint(1, 11, size=(9))\n",
    "print(\"Original Array Shape: \", numpy_array.shape)\n",
    "print(\"Original Array: \", numpy_array, \"\\n\")"
   ]
  },
  {
   "cell_type": "markdown",
   "metadata": {},
   "source": [
    "##### Using np.reshape() routine to reshape an array"
   ]
  },
  {
   "cell_type": "code",
   "execution_count": null,
   "metadata": {},
   "outputs": [],
   "source": [
    "numpy_array = numpy_array.reshape(3,3)\n",
    "print(\"New Array Shape: \", numpy_array.shape)\n",
    "print(\"New Array:\\n\", numpy_array)"
   ]
  },
  {
   "cell_type": "markdown",
   "metadata": {},
   "source": [
    "##### We can also flatten matrices using ravel()"
   ]
  },
  {
   "cell_type": "code",
   "execution_count": 40,
   "metadata": {},
   "outputs": [
    {
     "name": "stdout",
     "output_type": "stream",
     "text": [
      "Original Array Shape:  (4, 6)\n",
      "Original Array:\n",
      " [[ 2  3  4  7  6 10]\n",
      " [ 9  5  5  9 10  4]\n",
      " [ 7  1 10  1  4  9]\n",
      " [ 9  8  3 10  7  9]] \n",
      "\n",
      "Flattened Array Shape:  (24,)\n",
      "Flattened Array:\n",
      " [ 2  3  4  7  6 10  9  5  5  9 10  4  7  1 10  1  4  9  9  8  3 10  7  9]\n"
     ]
    }
   ],
   "source": [
    "numpy_array = np.random.randint(1, 11, size=(24))\n",
    "numpy_array = numpy_array.reshape(4,6)\n",
    "print(\"Original Array Shape: \", numpy_array.shape)\n",
    "print(\"Original Array:\\n\", numpy_array, \"\\n\")"
   ]
  },
  {
   "cell_type": "markdown",
   "metadata": {},
   "source": [
    "##### Flattening an unflattened array"
   ]
  },
  {
   "cell_type": "code",
   "execution_count": null,
   "metadata": {},
   "outputs": [],
   "source": [
    "numpy_array = numpy_array.ravel()\n",
    "print(\"Flattened Array Shape: \", numpy_array.shape)\n",
    "print (\"Flattened Array:\\n\", numpy_array)"
   ]
  },
  {
   "cell_type": "markdown",
   "metadata": {},
   "source": [
    "##### Other useful routines for data analysis using NumPy"
   ]
  },
  {
   "cell_type": "code",
   "execution_count": 41,
   "metadata": {},
   "outputs": [
    {
     "name": "stdout",
     "output_type": "stream",
     "text": [
      "[[8 5 3 6]\n",
      " [5 5 9 8]\n",
      " [7 7 4 1]] \n",
      "\n",
      "Sum of all Elements: 68\n",
      "Smallest Element: 1\n",
      "Highest Element: 9\n",
      "Cumulative Sum of Elements: [ 8 13 16 22 27 32 41 49 56 63 67 68]\n",
      "Column-wise Sum: [20 17 16 15]\n",
      "Row-wise Sum: [22 27 19]\n"
     ]
    }
   ],
   "source": [
    "numpy_array = np.random.randint(1, 11, size=(3, 4))\n",
    "\n",
    "print(numpy_array, \"\\n\")\n",
    "print (\"Sum of all Elements:\", numpy_array.sum())\n",
    "print(\"Smallest Element:\", numpy_array.min())\n",
    "print(\"Highest Element:\", numpy_array.max())\n",
    "print(\"Cumulative Sum of Elements:\", numpy_array.cumsum())\n",
    "print (\"Column-wise Sum:\", numpy_array.sum(axis=0))\n",
    "print (\"Row-wise Sum:\",numpy_array.sum(axis=1))"
   ]
  },
  {
   "cell_type": "markdown",
   "metadata": {},
   "source": [
    "You can do matrix multiplication and matrix manipulations"
   ]
  },
  {
   "cell_type": "markdown",
   "metadata": {},
   "source": [
    "##### Dot products of two \"arrays\""
   ]
  },
  {
   "cell_type": "code",
   "execution_count": 42,
   "metadata": {},
   "outputs": [
    {
     "name": "stdout",
     "output_type": "stream",
     "text": [
      "'a':\n",
      " [[ 3  7  2]\n",
      " [ 8  8  4]\n",
      " [ 2 10  3]] \n",
      "\n",
      "'b':\n",
      " [[7 6 2]\n",
      " [7 6 6]\n",
      " [7 4 6]] \n",
      "\n",
      "Dot Product of 'a' and 'b' (arrays):\n",
      " [[ 84  68  60]\n",
      " [140 112  88]\n",
      " [105  84  82]]\n"
     ]
    }
   ],
   "source": [
    "a = np.random.randint(1, 11, size=(3, 3))\n",
    "b = np.random.randint(1, 11, size=(3, 3))\n",
    "\n",
    "print(\"'a':\\n\", a, \"\\n\")\n",
    "print(\"'b':\\n\", b, \"\\n\")\n",
    "\n",
    "print(\"Dot Product of 'a' and 'b' (arrays):\\n\", np.dot(a, b))"
   ]
  },
  {
   "cell_type": "markdown",
   "metadata": {},
   "source": [
    "##### Let's concatenate 'a' and 'b' together alond axis=2"
   ]
  },
  {
   "cell_type": "code",
   "execution_count": null,
   "metadata": {},
   "outputs": [],
   "source": [
    "print(\"Concatenate:\\n\", np.concatenate((a, b), axis=2), \"\\n\")"
   ]
  },
  {
   "cell_type": "markdown",
   "metadata": {},
   "source": [
    "##### Let's append 'c' to 'a' vertically"
   ]
  },
  {
   "cell_type": "code",
   "execution_count": null,
   "metadata": {},
   "outputs": [],
   "source": [
    "print(\"Vertical Append:\\n\", np.vstack((a, c)), \"\\n\") # try appending 'd' to 'a' vertically"
   ]
  },
  {
   "cell_type": "markdown",
   "metadata": {},
   "source": [
    "##### Let's append 'd' to 'a' horizontally"
   ]
  },
  {
   "cell_type": "code",
   "execution_count": null,
   "metadata": {},
   "outputs": [],
   "source": [
    "print(\"Horizontal Append:\\n\", np.hstack((a, d))) # try appending 'c' to 'a' horizontally"
   ]
  },
  {
   "cell_type": "markdown",
   "metadata": {},
   "source": [
    "##### Matrix product of two \"arrays\""
   ]
  },
  {
   "cell_type": "code",
   "execution_count": 43,
   "metadata": {},
   "outputs": [
    {
     "name": "stdout",
     "output_type": "stream",
     "text": [
      "'a':\n",
      " [[9 7 7 9]\n",
      " [4 1 7 5]\n",
      " [2 3 2 5]] \n",
      "\n",
      "'b':\n",
      " [[8 5]\n",
      " [7 5]\n",
      " [1 3]\n",
      " [5 7]] \n",
      "\n",
      "Matrix Product of 'a' and 'b' (arrays):\n",
      " [[173 164]\n",
      " [ 71  81]\n",
      " [ 64  66]]\n"
     ]
    }
   ],
   "source": [
    "a = np.random.randint(1, 11, size=(3, 4))\n",
    "b = np.random.randint(1, 11, size=(4, 2))\n",
    "\n",
    "print(\"'a':\\n\", a, \"\\n\")\n",
    "print(\"'b':\\n\", b, \"\\n\")\n",
    "\n",
    "print(\"Matrix Product of 'a' and 'b' (arrays):\\n\", np.matmul(a, b))"
   ]
  },
  {
   "cell_type": "markdown",
   "metadata": {},
   "source": [
    "##### Taking the transpose of an array Matrix"
   ]
  },
  {
   "cell_type": "code",
   "execution_count": 44,
   "metadata": {},
   "outputs": [
    {
     "name": "stdout",
     "output_type": "stream",
     "text": [
      "'a':\n",
      " [[ 9  1  5  5]\n",
      " [ 1  5 10  7]\n",
      " [ 6  8  9  4]] \n",
      "\n",
      "'a' Transpose (using 'array.T'):\n",
      " [[ 9  1  6]\n",
      " [ 1  5  8]\n",
      " [ 5 10  9]\n",
      " [ 5  7  4]] \n",
      "\n",
      "'a' Transpose (using 'np.transpose()''):\n",
      " [[ 9  1  6]\n",
      " [ 1  5  8]\n",
      " [ 5 10  9]\n",
      " [ 5  7  4]] \n",
      "\n"
     ]
    }
   ],
   "source": [
    "a = np.random.randint(1, 11, size=(3, 4))\n",
    "print(\"'a':\\n\", a, \"\\n\")"
   ]
  },
  {
   "cell_type": "markdown",
   "metadata": {},
   "source": [
    "##### You can take transpose in two ways"
   ]
  },
  {
   "cell_type": "code",
   "execution_count": null,
   "metadata": {},
   "outputs": [],
   "source": [
    "print(\"'a' Transpose (using 'array.T'):\\n\", a.T, \"\\n\")\n",
    "print(\"'a' Transpose (using 'np.transpose()''):\\n\", np.transpose(a), \"\\n\")"
   ]
  },
  {
   "cell_type": "markdown",
   "metadata": {},
   "source": [
    "There so many more routines available in this package. To explore all the NumPy routines, refer the [documentation](https://numpy.org/doc/1.17/reference/routines.html). "
   ]
  },
  {
   "cell_type": "markdown",
   "metadata": {},
   "source": [
    "# Introduction to Pandas"
   ]
  },
  {
   "cell_type": "markdown",
   "metadata": {},
   "source": [
    "In this tutorial, we will cover:\n",
    "\n",
    "* **Basics of Pandas**: Introduction Pandas Objects, creation of commonly used Pandas Objects.\n",
    "* **Operations on Data**: \n",
    "* **Aggregations**: Various function used to aggregate for NumPy arrays"
   ]
  },
  {
   "cell_type": "markdown",
   "metadata": {},
   "source": [
    "Read this if you're new to Pandas [Documentation](https://pandas.pydata.org/pandas-docs/version/0.15/tutorials.html) (chapters 1 and 2 and lessons 1-3)"
   ]
  },
  {
   "cell_type": "markdown",
   "metadata": {},
   "source": [
    "### Reading data from JSON"
   ]
  },
  {
   "cell_type": "code",
   "execution_count": null,
   "metadata": {},
   "outputs": [],
   "source": [
    "df = pd.read_json('./assets/programming.json')\n",
    "df"
   ]
  },
  {
   "cell_type": "markdown",
   "metadata": {},
   "source": [
    "Notice this time our index came with us correctly since using JSON allowed indexes to work through nesting. Pandas will try to figure out how to create a DataFrame by analyzing structure of your JSON, and sometimes it doesn't get it right. Often you'll need to set the orient keyword argument depending on the structure, so check out [read_json docs](https://pandas.pydata.org/pandas-docs/stable/reference/api/pandas.read_json.html) about that argument to see which orientation you're using."
   ]
  },
  {
   "cell_type": "markdown",
   "metadata": {},
   "source": [
    "### Reading data from a SQL database"
   ]
  },
  {
   "cell_type": "markdown",
   "metadata": {},
   "source": [
    "If you’re working with data from a SQL database you need to first establish a connection using an appropriate Python library, then pass a query to pandas. Here we'll use SQLite to demonstrate.\n",
    "\n",
    "First, we need `pysqlite3` installed, so run this command in your terminal:\n",
    "\n",
    "```\n",
    "$ pip install pysqlite3\n",
    "```\n"
   ]
  },
  {
   "cell_type": "markdown",
   "metadata": {},
   "source": [
    "`sqlite3` is used to create a connection to a database which we can then use to generate a DataFrame through a `SELECT` query.\n",
    "\n",
    "So first we'll make a connection to a SQLite database file:"
   ]
  },
  {
   "cell_type": "code",
   "execution_count": null,
   "metadata": {},
   "outputs": [],
   "source": [
    "import sqlite3\n",
    "con = sqlite3.connect(\"./assets/database.db\")\n",
    "df = pd.read_sql_query(\"SELECT * FROM programming\", con)\n",
    "\n",
    "df"
   ]
  },
  {
   "cell_type": "markdown",
   "metadata": {},
   "source": [
    "Just like with CSVs, we could pass `index_col='index'`, but we can also set an index after-the-fact:"
   ]
  },
  {
   "cell_type": "code",
   "execution_count": null,
   "metadata": {},
   "outputs": [],
   "source": [
    "df = df.set_index('index')\n",
    "df"
   ]
  },
  {
   "cell_type": "markdown",
   "metadata": {},
   "source": [
    "In fact, we could use `set_index()` on any DataFrame using any column at any time. Indexing Series and DataFrames is a very common task, and the different ways of doing it is worth remembering."
   ]
  },
  {
   "cell_type": "markdown",
   "metadata": {},
   "source": [
    "### Converting back to a CSV, JSON, or SQL"
   ]
  },
  {
   "cell_type": "markdown",
   "metadata": {},
   "source": [
    "So after extensive work on cleaning your data, you’re now ready to save it as a file of your choice. Similar to the ways we read in data, pandas provides intuitive commands to save it:"
   ]
  },
  {
   "cell_type": "code",
   "execution_count": null,
   "metadata": {},
   "outputs": [],
   "source": [
    "df.to_csv('./assets/programming.csv')\n",
    "\n",
    "df.to_json('./assets/programming.json')\n",
    "\n",
    "df.to_sql('./assets/programming_1', con)"
   ]
  },
  {
   "cell_type": "markdown",
   "metadata": {},
   "source": [
    "When we save JSON and CSV files, all we have to input into those functions is our desired filename with the appropriate file extension. With SQL, we’re not creating a new file but instead inserting a new table into the database using our `con` variable from before."
   ]
  },
  {
   "cell_type": "markdown",
   "metadata": {},
   "source": [
    "### Selecting rows and columns\n",
    "Using .loc[] and.iloc[] you can select particular rows and columns in a dataframe"
   ]
  },
  {
   "cell_type": "code",
   "execution_count": null,
   "metadata": {},
   "outputs": [],
   "source": [
    "movies_df.iloc[45]"
   ]
  },
  {
   "cell_type": "code",
   "execution_count": null,
   "metadata": {},
   "outputs": [],
   "source": [
    "movies_df_2=movies_df.set_index('Title')"
   ]
  },
  {
   "cell_type": "code",
   "execution_count": null,
   "metadata": {},
   "outputs": [],
   "source": [
    "movies_df_2.head()"
   ]
  },
  {
   "cell_type": "code",
   "execution_count": null,
   "metadata": {},
   "outputs": [],
   "source": [
    "movies_df_2.loc['Sing']"
   ]
  },
  {
   "cell_type": "code",
   "execution_count": null,
   "metadata": {},
   "outputs": [],
   "source": [
    "movies_df.iloc[[5,11,15,29]]"
   ]
  },
  {
   "cell_type": "markdown",
   "metadata": {},
   "source": [
    "### Operations on dataframe"
   ]
  },
  {
   "cell_type": "code",
   "execution_count": null,
   "metadata": {},
   "outputs": [],
   "source": [
    "movies_df[movies_df['Runtime']>170]"
   ]
  },
  {
   "cell_type": "code",
   "execution_count": null,
   "metadata": {},
   "outputs": [],
   "source": [
    "movies_df[(movies_df['Runtime']>150) & (movies_df['Rating']>8.5)]"
   ]
  },
  {
   "cell_type": "markdown",
   "metadata": {},
   "source": [
    "#### Group DataFrame using a mapper or by a Series of columns using .groupby()"
   ]
  },
  {
   "cell_type": "code",
   "execution_count": null,
   "metadata": {},
   "outputs": [],
   "source": [
    "directors_df=movies_df.groupby('Director').mean().reset_index()\n",
    "directors_df.head()"
   ]
  },
  {
   "cell_type": "code",
   "execution_count": null,
   "metadata": {},
   "outputs": [],
   "source": [
    "directors_df[directors_df['Rating']>8.3]"
   ]
  },
  {
   "cell_type": "code",
   "execution_count": null,
   "metadata": {},
   "outputs": [],
   "source": [
    "movies_df.groupby('Year')['Rating'].mean()"
   ]
  },
  {
   "cell_type": "code",
   "execution_count": null,
   "metadata": {},
   "outputs": [],
   "source": [
    "movies_df.groupby('Year')['Rating'].max()"
   ]
  },
  {
   "cell_type": "markdown",
   "metadata": {},
   "source": [
    "#### Apply a function along an axis of the DataFrame using .apply()"
   ]
  },
  {
   "cell_type": "code",
   "execution_count": null,
   "metadata": {},
   "outputs": [],
   "source": [
    "def times10(x): \n",
    "    return 10*x\n",
    "movies_df['Rating']=movies_df['Rating'].apply(times10)"
   ]
  },
  {
   "cell_type": "code",
   "execution_count": null,
   "metadata": {},
   "outputs": [],
   "source": [
    "movies_df.head()"
   ]
  },
  {
   "cell_type": "code",
   "execution_count": 4,
   "metadata": {},
   "outputs": [
    {
     "name": "stdout",
     "output_type": "stream",
     "text": [
      "/Users/abirami/Development/30-Days-ML-d4e9cb1a7c29ff6a747fc62e827801e1666584af/Week 1/Day 1\n"
     ]
    }
   ],
   "source": [
    "!pwd"
   ]
  }
 ],
 "metadata": {
  "file_extension": ".py",
  "kernelspec": {
   "display_name": "Python 3",
   "language": "python",
   "name": "python3"
  },
  "language_info": {
   "codemirror_mode": {
    "name": "ipython",
    "version": 3
   },
   "file_extension": ".py",
   "mimetype": "text/x-python",
   "name": "python",
   "nbconvert_exporter": "python",
   "pygments_lexer": "ipython3",
   "version": "3.8.2"
  },
  "mimetype": "text/x-python",
  "name": "python",
  "npconvert_exporter": "python",
  "pygments_lexer": "ipython3",
  "version": 3
 },
 "nbformat": 4,
 "nbformat_minor": 4
}
